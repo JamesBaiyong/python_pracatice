{
 "cells": [
  {
   "cell_type": "markdown",
   "metadata": {},
   "source": [
    "### 无监督学习-聚类\n",
    "#### K-means聚类方法及应用\n",
    "```shell\n",
    "k-means算法以k为参数，把n个对象分成k个簇，使簇内具有较高的相似\n",
    "度，而簇间的相似度较低。\n",
    "其处理过程如下：\n",
    "1.随机选择k个点作为初始的聚类中心；\n",
    "2.对于剩下的点，根据其与聚类中心的距离，将其归入最近的簇\n",
    "3.对每个簇，计算所有点的均值作为新的聚类中心\n",
    "4.重复2、3直到聚类中心不再发生改变\n",
    "```"
   ]
  },
  {
   "cell_type": "code",
   "execution_count": 1,
   "metadata": {},
   "outputs": [
    {
     "name": "stdout",
     "output_type": "stream",
     "text": [
      "Expenses:4512.27\n",
      "江苏\n",
      "安徽\n",
      "湖南\n",
      "湖北\n",
      "广西\n",
      "海南\n",
      "四川\n",
      "云南\n",
      "Expenses:3788.76\n",
      "河北\n",
      "山西\n",
      "内蒙古\n",
      "辽宁\n",
      "吉林\n",
      "黑龙江\n",
      "江西\n",
      "山东\n",
      "河南\n",
      "贵州\n",
      "陕西\n",
      "甘肃\n",
      "青海\n",
      "宁夏\n",
      "新疆\n",
      "Expenses:7754.66\n",
      "北京\n",
      "上海\n",
      "广东\n",
      "Expenses:5678.62\n",
      "天津\n",
      "浙江\n",
      "福建\n",
      "重庆\n",
      "西藏\n"
     ]
    }
   ],
   "source": [
    "#encoding=utf-8\n",
    "import numpy as np\n",
    "from sklearn.cluster import KMeans\n",
    " \n",
    " \n",
    "def loadData(filePath):\n",
    "    with open(filePath,'r') as f:\n",
    "        lines = f.readlines()\n",
    "    retData = []\n",
    "    retCityName = []\n",
    "    for line in lines:\n",
    "        items = line.split(\",\")\n",
    "        retCityName.append(items[0])\n",
    "        retData.append([float(items[i]) for i in range(1,len(items))])\n",
    "    return retData,retCityName\n",
    " \n",
    " \n",
    "if __name__ == '__main__':\n",
    "    data,cityName = loadData('./testData/citys_31.txt')\n",
    "    km = KMeans(n_clusters=4) # 分为4簇\n",
    "    label = km.fit_predict(data)\n",
    "    expenses = np.sum(km.cluster_centers_,axis=1)\n",
    "    #print(expenses)\n",
    "    CityCluster = [[],[],[],[]]\n",
    "    for i in range(len(cityName)):\n",
    "        CityCluster[label[i]].append(cityName[i])\n",
    "    for i in range(len(CityCluster)):\n",
    "        print(\"Expenses:%.2f\" % expenses[i])\n",
    "        for city in CityCluster[i]:\n",
    "            print city.decode('gbk')"
   ]
  },
  {
   "cell_type": "code",
   "execution_count": null,
   "metadata": {
    "collapsed": true
   },
   "outputs": [],
   "source": []
  }
 ],
 "metadata": {
  "kernelspec": {
   "display_name": "Python 2",
   "language": "python",
   "name": "python2"
  },
  "language_info": {
   "codemirror_mode": {
    "name": "ipython",
    "version": 2
   },
   "file_extension": ".py",
   "mimetype": "text/x-python",
   "name": "python",
   "nbconvert_exporter": "python",
   "pygments_lexer": "ipython2",
   "version": "2.7.14"
  }
 },
 "nbformat": 4,
 "nbformat_minor": 2
}
