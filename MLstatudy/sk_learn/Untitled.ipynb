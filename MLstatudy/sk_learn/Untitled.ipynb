{
 "cells": [
  {
   "cell_type": "markdown",
   "metadata": {},
   "source": [
    "### 无监督学习-聚类\n",
    "#### K-means聚类方法及应用\n",
    "```shell\n",
    "k-means算法以k为参数，把n个对象分成k个簇，使簇内具有较高的相似\n",
    "度，而簇间的相似度较低。\n",
    "其处理过程如下：\n",
    "1.随机选择k个点作为初始的聚类中心；\n",
    "2.对于剩下的点，根据其与聚类中心的距离，将其归入最近的簇\n",
    "3.对每个簇，计算所有点的均值作为新的聚类中心\n",
    "4.重复2、3直到聚类中心不再发生改变\n",
    "```"
   ]
  }
 ],
 "metadata": {
  "kernelspec": {
   "display_name": "Python 2",
   "language": "python",
   "name": "python2"
  },
  "language_info": {
   "codemirror_mode": {
    "name": "ipython",
    "version": 2
   },
   "file_extension": ".py",
   "mimetype": "text/x-python",
   "name": "python",
   "nbconvert_exporter": "python",
   "pygments_lexer": "ipython2",
   "version": "2.7.14"
  }
 },
 "nbformat": 4,
 "nbformat_minor": 2
}
