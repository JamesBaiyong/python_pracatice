{
 "cells": [
  {
   "cell_type": "markdown",
   "metadata": {},
   "source": [
    "### sklearn 库基本功能\n",
    "共分为6大部分,用于完成:\n",
    "* 分类任务\n",
    "* 回归任务\n",
    "* 聚类任务\n",
    "* 降维任务\n",
    "* 模型选择\n",
    "* 数据预处理\n",
    "\n",
    "######   分类任务\n",
    "|分类模型|加载模块|\n",
    "|:-|:-:|\n",
    "|最近邻算法|neighbors.NearestNeighbors|\n",
    "|支持向量机|smc.SVC|\n",
    "|朴素贝页斯|naive_bayes.GaussianNB|\n",
    "|决策树|tree.DecisionTreeClassifier|\n",
    "|集成方法|ensemble.BaggingClassifier|\n",
    "|神经网络|neural_network.MLPClassifier|\n",
    "\n",
    "##### 回归任务\n",
    "|回归模型|加载模块|\n",
    "|:-|:-:|\n",
    "|岭回归|linear_model.Ridge|\n",
    "|lasso回归|linear_model.Lasso|\n",
    "|弹性网络|linear_model.ElasticNet|\n",
    "|最小角回归|linear_model.Lars|\n",
    "|贝叶斯回归|linear_model.BayesianRidge|\n",
    "|逻辑回归|linear_model.LogisticRegression|\n",
    "|多项式回归|preprocessing. PolynomialFeatures|\n",
    "\n",
    "##### 聚类任务\n",
    "|聚类方法|加载模块|\n",
    "|:-|:-:|\n",
    "|K-means|cluster.KMeans|\n",
    "|AP聚类|cluster.AffinityPropagation|\n",
    "|均值漂移|cluster.MeanShift|\n",
    "|层次聚类|cluster.AgglomerativeClustering|\n",
    "|DBSCAN|cluster.DBSCAN|\n",
    "|BIRCH|cluster.Birch|\n",
    "|谱聚类|cluster.SpectralClustering|\n",
    "\n",
    "##### 降维任务\n",
    "|降维方法|加载模块|\n",
    "|:-:|:-:|\n",
    "|主成分分析|decomposition.PCA|\n",
    "|截断SVD和LSA|decomposition.TruncatedSVD|\n",
    "|字典学习|decomposition.SparseCoder|\n",
    "|因子分析|decomposition.FactorAnalysis|\n",
    "|独立成分分析|decomposition.FastICA|\n",
    "|非负矩阵分解|decomposition.NMF|\n",
    "|LDA|decomposition.LatentDirichletAllocation|"
   ]
  },
  {
   "cell_type": "markdown",
   "metadata": {},
   "source": [
    "#### 波士顿房价数据集(回归问题)\n",
    "```shell\n",
    "#重要参数为:\n",
    "#return_X_y:表示是否返回target(即价格),默认为False,只返回data(即属性)。\n",
    "```"
   ]
  },
  {
   "cell_type": "code",
   "execution_count": 9,
   "metadata": {},
   "outputs": [
    {
     "name": "stdout",
     "output_type": "stream",
     "text": [
      "(506, 13)\n",
      "(506, 13)\n",
      "(506,)\n"
     ]
    }
   ],
   "source": [
    "from sklearn.datasets import load_boston\n",
    "boston = load_boston()\n",
    "print (boston.data.shape)\n",
    "\n",
    "data, tagert = load_boston(return_X_y=True)\n",
    "print (data.shape)\n",
    "print (tagert.shape)"
   ]
  },
  {
   "cell_type": "code",
   "execution_count": null,
   "metadata": {},
   "outputs": [],
   "source": []
  },
  {
   "cell_type": "markdown",
   "metadata": {},
   "source": [
    "#### 鸢尾花数据集(分类问题)\n",
    "```shell\n",
    "#其参数有:\n",
    "#return_X_y:若为True,则以(data, target)形式返回数据;默认为False,表示以字典形式返回数据全部信息(包括data和target)。\n",
    "\n",
    "# 总共分类有:\n",
    "# Iris Setosa\n",
    "# Iris Versicolour\n",
    "# Iris Virginica\n",
    "# 可用于多分类问题\n",
    "```"
   ]
  },
  {
   "cell_type": "code",
   "execution_count": 17,
   "metadata": {},
   "outputs": [
    {
     "name": "stdout",
     "output_type": "stream",
     "text": [
      "(150, 4)\n",
      "(150,)\n",
      "['setosa', 'versicolor', 'virginica']\n"
     ]
    }
   ],
   "source": [
    "from sklearn.datasets import load_iris\n",
    "iris = load_iris()\n",
    "print (iris.data.shape)\n",
    "print (iris.target.shape)\n",
    "print (list(iris.target_names)) # 类别"
   ]
  },
  {
   "cell_type": "code",
   "execution_count": null,
   "metadata": {},
   "outputs": [],
   "source": []
  },
  {
   "cell_type": "markdown",
   "metadata": {},
   "source": [
    "#### 手写数字数据集(分类问题)\n",
    "```shell\n",
    "# 参数\n",
    "#return_X_y:若为True,则以(data, target)形式返回数据;默认为False,表示以字典形式返回数据全部信息(包括data和target)\n",
    "#n_class:表示返回数据的类别数,如:n_class=5,则返回0到4的数据样本\n",
    "\n",
    "# 介绍\n",
    "# 手写数字数据集包括1797个0-9的手写数字数据,每个数字由8*8大小的矩阵构成\n",
    "```"
   ]
  },
  {
   "cell_type": "code",
   "execution_count": 19,
   "metadata": {},
   "outputs": [
    {
     "name": "stdout",
     "output_type": "stream",
     "text": [
      "(1797,)\n",
      "(1797, 64)\n",
      "(1797, 8, 8)\n"
     ]
    },
    {
     "data": {
      "image/png": "[encoded data removed]",
      "text/plain": [
       "<Figure size 288x288 with 1 Axes>"
      ]
     },
     "metadata": {},
     "output_type": "display_data"
    }
   ],
   "source": [
    "from sklearn.datasets import load_digits\n",
    "digits = load_digits()\n",
    "print (digits.target.shape)\n",
    "print (digits.data.shape)\n",
    "print (digits.images.shape)\n",
    "\n",
    "import matplotlib.pyplot as plt\n",
    "plt.matshow(digits.images[0])\n",
    "plt.show()"
   ]
  },
  {
   "cell_type": "code",
   "execution_count": null,
   "metadata": {},
   "outputs": [],
   "source": []
  }
 ],
 "metadata": {
  "kernelspec": {
   "display_name": "Python 2",
   "language": "python",
   "name": "python2"
  },
  "language_info": {
   "codemirror_mode": {
    "name": "ipython",
    "version": 2
   },
   "file_extension": ".py",
   "mimetype": "text/x-python",
   "name": "python",
   "nbconvert_exporter": "python",
   "pygments_lexer": "ipython2",
   "version": "2.7.15"
  }
 },
 "nbformat": 4,
 "nbformat_minor": 2
}
