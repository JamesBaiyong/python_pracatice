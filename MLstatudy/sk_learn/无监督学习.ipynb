{
 "cells": [
  {
   "cell_type": "markdown",
   "metadata": {},
   "source": [
    "### 无监督学习\n",
    "###### 概念\n",
    "利用无标签的数据,学习数据的分布或数据与数据之间的关系,被称作无监督学习。\n",
    "###### 特点\n",
    "* 有监督学习和无监督学习的最大区别在于*数据是否有标签*\n",
    "* 无监督学习最常应用的场景是聚类(clustering)和降维(DimensionReduction)"
   ]
  },
  {
   "cell_type": "markdown",
   "metadata": {},
   "source": [
    "#### 聚类\n",
    "是根据数据的“相似性”将数据分为多类的过程\n",
    "评估两个数据样本的相似性,通常通过计算数据直接的距离"
   ]
  }
 ],
 "metadata": {
  "kernelspec": {
   "display_name": "Python 2",
   "language": "python",
   "name": "python2"
  },
  "language_info": {
   "codemirror_mode": {
    "name": "ipython",
    "version": 2
   },
   "file_extension": ".py",
   "mimetype": "text/x-python",
   "name": "python",
   "nbconvert_exporter": "python",
   "pygments_lexer": "ipython2",
   "version": "2.7.14"
  }
 },
 "nbformat": 4,
 "nbformat_minor": 2
}
